{
 "cells": [
  {
   "cell_type": "code",
   "execution_count": 1,
   "metadata": {},
   "outputs": [
    {
     "name": "stderr",
     "output_type": "stream",
     "text": [
      "c:\\Users\\radit\\AppData\\Local\\Programs\\Python\\Python312\\Lib\\site-packages\\tqdm\\auto.py:21: TqdmWarning: IProgress not found. Please update jupyter and ipywidgets. See https://ipywidgets.readthedocs.io/en/stable/user_install.html\n",
      "  from .autonotebook import tqdm as notebook_tqdm\n"
     ]
    }
   ],
   "source": [
    "import tensorflow as tf\n",
    "from tensorflow.keras.preprocessing.image import ImageDataGenerator\n",
    "from tensorflow.keras import layers, models\n",
    "from datasets import load_dataset\n",
    "import numpy as np\n",
    "from sklearn.model_selection import train_test_split\n",
    "from tensorflow.keras.utils import to_categorical\n",
    "import wandb\n",
    "from wandb.integration.keras import WandbCallback\n",
    "import os\n",
    "import json\n",
    "from datetime import datetime"
   ]
  },
  {
   "cell_type": "code",
   "execution_count": 2,
   "metadata": {},
   "outputs": [],
   "source": [
    "dataset = load_dataset(\"garythung/trashnet\")"
   ]
  },
  {
   "cell_type": "code",
   "execution_count": 3,
   "metadata": {},
   "outputs": [],
   "source": [
    "def preprocess_data(dataset):\n",
    "    images = []\n",
    "    labels = []\n",
    "    \n",
    "    for item in dataset:\n",
    "        # Resize and convert to np\n",
    "        img = tf.image.resize(item['image'], (224, 224))\n",
    "        img = tf.keras.utils.img_to_array(img)\n",
    "        images.append(img)\n",
    "        labels.append(item['label'])\n",
    "    \n",
    "    return np.array(images), np.array(labels)\n",
    "\n",
    "# Preprocess the data\n",
    "X, y = preprocess_data(dataset['train'])\n",
    "\n",
    "# Convert labels to categorical\n",
    "num_classes = len(np.unique(y))\n",
    "y = to_categorical(y, num_classes)\n",
    "\n",
    "# Split the data\n",
    "X_train, X_val, y_train, y_val = train_test_split(X, y, test_size=0.2, random_state=42)"
   ]
  },
  {
   "cell_type": "code",
   "execution_count": 4,
   "metadata": {},
   "outputs": [],
   "source": [
    "class TrainDataGenerator:\n",
    "    def __init__(self, generator, x, y, batch_size):\n",
    "        self.generator = generator\n",
    "        self.x = x\n",
    "        self.y = y\n",
    "        self.batch_size = batch_size\n",
    "        self.steps = len(x) // batch_size\n",
    "        \n",
    "    def __iter__(self):\n",
    "        batch_generator = self.generator.flow(self.x, self.y, batch_size=self.batch_size)\n",
    "        self.batch_metrics = {'train_loss': [], 'train_accuracy': []}\n",
    "        \n",
    "        for i in range(self.steps):\n",
    "            batch = next(batch_generator)\n",
    "            yield batch\n",
    "            \n",
    "    def on_batch_end(self, batch, logs=None):\n",
    "        if logs:\n",
    "            self.batch_metrics['train_loss'].append(logs.get('loss', 0))\n",
    "            self.batch_metrics['train_accuracy'].append(logs.get('accuracy', 0))\n",
    "            \n",
    "    def get_epoch_metrics(self):\n",
    "        if self.batch_metrics['train_loss']:\n",
    "            return {\n",
    "                'train_loss': np.mean(self.batch_metrics['train_loss']),\n",
    "                'train_accuracy': np.mean(self.batch_metrics['train_accuracy'])\n",
    "            }"
   ]
  },
  {
   "cell_type": "code",
   "execution_count": 5,
   "metadata": {},
   "outputs": [],
   "source": [
    "class WandbMetricsLogger(tf.keras.callbacks.Callback):\n",
    "    def on_epoch_end(self, epoch, logs=None):\n",
    "        logs = logs or {}\n",
    "        wandb.log({\n",
    "            'epoch': epoch,\n",
    "            'train_loss': logs.get('loss', 0),\n",
    "            'train_accuracy': logs.get('accuracy', 0),\n",
    "            'val_loss': logs.get('val_loss', 0),\n",
    "            'val_accuracy': logs.get('val_accuracy', 0),\n",
    "            'learning_rate': float(tf.keras.backend.get_value(self.model.optimizer.learning_rate))\n",
    "        })"
   ]
  },
  {
   "cell_type": "code",
   "execution_count": 6,
   "metadata": {},
   "outputs": [],
   "source": [
    "def create_model(num_classes):\n",
    "    model = models.Sequential([\n",
    "        # CNN layers\n",
    "        layers.Conv2D(32, (3, 3), padding='same', activation='relu', input_shape=(224, 224, 3)),\n",
    "        layers.BatchNormalization(),\n",
    "        layers.MaxPooling2D((2, 2)),\n",
    "        \n",
    "        layers.Conv2D(64, (3, 3), padding='same', activation='relu'),\n",
    "        layers.BatchNormalization(),\n",
    "        layers.MaxPooling2D((2, 2)),\n",
    "        \n",
    "        layers.Conv2D(128, (3, 3), padding='same', activation='relu'),\n",
    "        layers.BatchNormalization(),\n",
    "        layers.MaxPooling2D((2, 2)),\n",
    "        \n",
    "        # Dense layers\n",
    "        layers.Flatten(),\n",
    "        layers.Dense(128, activation='relu'),\n",
    "        layers.BatchNormalization(),\n",
    "        layers.Dropout(0.3),\n",
    "        layers.Dense(num_classes, activation='softmax')\n",
    "    ])\n",
    "    return model"
   ]
  },
  {
   "cell_type": "code",
   "execution_count": 7,
   "metadata": {},
   "outputs": [],
   "source": [
    "train_datagen = ImageDataGenerator(\n",
    "    rescale=1./255,\n",
    "    rotation_range=20,\n",
    "    width_shift_range=0.2,\n",
    "    height_shift_range=0.2,\n",
    "    horizontal_flip=True,\n",
    "    vertical_flip=True,\n",
    "    shear_range=0.2,\n",
    "    brightness_range=[0.8, 1.2],\n",
    "    fill_mode='nearest'\n",
    ")\n",
    "val_datagen = ImageDataGenerator(rescale=1./255)"
   ]
  },
  {
   "cell_type": "code",
   "execution_count": 8,
   "metadata": {},
   "outputs": [
    {
     "name": "stderr",
     "output_type": "stream",
     "text": [
      "\u001b[34m\u001b[1mwandb\u001b[0m: Using wandb-core as the SDK backend.  Please refer to https://wandb.me/wandb-core for more information.\n",
      "\u001b[34m\u001b[1mwandb\u001b[0m: Currently logged in as: \u001b[33mraditsoic\u001b[0m (\u001b[33msoic\u001b[0m). Use \u001b[1m`wandb login --relogin`\u001b[0m to force relogin\n"
     ]
    },
    {
     "data": {
      "text/html": [
       "Tracking run with wandb version 0.19.1"
      ],
      "text/plain": [
       "<IPython.core.display.HTML object>"
      ]
     },
     "metadata": {},
     "output_type": "display_data"
    },
    {
     "data": {
      "text/html": [
       "Run data is saved locally in <code>c:\\makima\\trashnet\\notebooks\\wandb\\run-20241221_211906-b28pl5m5</code>"
      ],
      "text/plain": [
       "<IPython.core.display.HTML object>"
      ]
     },
     "metadata": {},
     "output_type": "display_data"
    },
    {
     "data": {
      "text/html": [
       "Syncing run <strong><a href='https://wandb.ai/soic/trashnet/runs/b28pl5m5' target=\"_blank\">CPU-CNN-Tensorflow-2</a></strong> to <a href='https://wandb.ai/soic/trashnet' target=\"_blank\">Weights & Biases</a> (<a href='https://wandb.me/developer-guide' target=\"_blank\">docs</a>)<br>"
      ],
      "text/plain": [
       "<IPython.core.display.HTML object>"
      ]
     },
     "metadata": {},
     "output_type": "display_data"
    },
    {
     "data": {
      "text/html": [
       " View project at <a href='https://wandb.ai/soic/trashnet' target=\"_blank\">https://wandb.ai/soic/trashnet</a>"
      ],
      "text/plain": [
       "<IPython.core.display.HTML object>"
      ]
     },
     "metadata": {},
     "output_type": "display_data"
    },
    {
     "data": {
      "text/html": [
       " View run at <a href='https://wandb.ai/soic/trashnet/runs/b28pl5m5' target=\"_blank\">https://wandb.ai/soic/trashnet/runs/b28pl5m5</a>"
      ],
      "text/plain": [
       "<IPython.core.display.HTML object>"
      ]
     },
     "metadata": {},
     "output_type": "display_data"
    },
    {
     "name": "stderr",
     "output_type": "stream",
     "text": [
      "c:\\Users\\radit\\AppData\\Local\\Programs\\Python\\Python312\\Lib\\site-packages\\keras\\src\\layers\\convolutional\\base_conv.py:107: UserWarning: Do not pass an `input_shape`/`input_dim` argument to a layer. When using Sequential models, prefer using an `Input(shape)` object as the first layer in the model instead.\n",
      "  super().__init__(activity_regularizer=activity_regularizer, **kwargs)\n"
     ]
    }
   ],
   "source": [
    "BATCH_SIZE = 32\n",
    "\n",
    "wandb.init(\n",
    "    project=\"trashnet\",  \n",
    "    config={\n",
    "        \"learning_rate\": 0.001,\n",
    "        \"epochs\": 50,\n",
    "        \"batch_size\": BATCH_SIZE,\n",
    "        \"architecture\": \"CNN\",\n",
    "        \"optimizer\": \"adam\",\n",
    "        \"loss\": \"categorical_crossentropy\",\n",
    "        \"dataset\": \"trashnet\",\n",
    "        \"num_classes\": num_classes,\n",
    "    },\n",
    "    name=\"CPU-CNN-Tensorflow-2\"\n",
    ")\n",
    "\n",
    "model = create_model(num_classes)\n",
    "optimizer = tf.keras.optimizers.Adam(learning_rate=wandb.config.learning_rate)\n",
    "model.compile(\n",
    "    optimizer=optimizer,\n",
    "    loss=wandb.config.loss,\n",
    "    metrics=['accuracy']    \n",
    ")"
   ]
  },
  {
   "cell_type": "code",
   "execution_count": 9,
   "metadata": {},
   "outputs": [],
   "source": [
    "\n",
    "train_generator = train_datagen.flow(\n",
    "    X_train, y_train,\n",
    "    batch_size=wandb.config.batch_size,\n",
    "    shuffle=True\n",
    ")\n",
    "\n",
    "val_generator = val_datagen.flow(\n",
    "    X_val, y_val,\n",
    "    batch_size=wandb.config.batch_size,\n",
    "    shuffle=False\n",
    ")"
   ]
  },
  {
   "cell_type": "code",
   "execution_count": 10,
   "metadata": {},
   "outputs": [],
   "source": [
    "callbacks = [\n",
    "    WandbMetricsLogger(),\n",
    "    tf.keras.callbacks.EarlyStopping(\n",
    "        monitor='val_loss',\n",
    "        patience=5,\n",
    "        restore_best_weights=True\n",
    "    ),\n",
    "    tf.keras.callbacks.ReduceLROnPlateau(\n",
    "        monitor='val_loss',\n",
    "        factor=0.2,\n",
    "        patience=3\n",
    "    ),\n",
    "    tf.keras.callbacks.ModelCheckpoint(\n",
    "        'best_model.keras',\n",
    "        monitor='val_accuracy',\n",
    "        save_best_only=True,\n",
    "        mode='max'\n",
    "    )\n",
    "]"
   ]
  },
  {
   "cell_type": "code",
   "execution_count": 11,
   "metadata": {},
   "outputs": [
    {
     "name": "stderr",
     "output_type": "stream",
     "text": [
      "c:\\Users\\radit\\AppData\\Local\\Programs\\Python\\Python312\\Lib\\site-packages\\keras\\src\\trainers\\data_adapters\\py_dataset_adapter.py:121: UserWarning: Your `PyDataset` class should call `super().__init__(**kwargs)` in its constructor. `**kwargs` can include `workers`, `use_multiprocessing`, `max_queue_size`. Do not pass these arguments to `fit()`, as they will be ignored.\n",
      "  self._warn_if_super_not_called()\n"
     ]
    },
    {
     "name": "stdout",
     "output_type": "stream",
     "text": [
      "Epoch 1/50\n",
      "\u001b[1m126/126\u001b[0m \u001b[32m━━━━━━━━━━━━━━━━━━━━\u001b[0m\u001b[37m\u001b[0m \u001b[1m187s\u001b[0m 1s/step - accuracy: 0.3957 - loss: 1.8853 - val_accuracy: 0.2379 - val_loss: 2.1846 - learning_rate: 0.0010\n",
      "Epoch 2/50\n",
      "\u001b[1m  1/126\u001b[0m \u001b[37m━━━━━━━━━━━━━━━━━━━━\u001b[0m \u001b[1m1:30\u001b[0m 722ms/step - accuracy: 0.4062 - loss: 1.7231"
     ]
    },
    {
     "name": "stderr",
     "output_type": "stream",
     "text": [
      "c:\\Users\\radit\\AppData\\Local\\Programs\\Python\\Python312\\Lib\\site-packages\\keras\\src\\trainers\\epoch_iterator.py:107: UserWarning: Your input ran out of data; interrupting training. Make sure that your dataset or generator can generate at least `steps_per_epoch * epochs` batches. You may need to use the `.repeat()` function when building your dataset.\n",
      "  self._interrupted_warning()\n"
     ]
    },
    {
     "name": "stdout",
     "output_type": "stream",
     "text": [
      "\u001b[1m126/126\u001b[0m \u001b[32m━━━━━━━━━━━━━━━━━━━━\u001b[0m\u001b[37m\u001b[0m \u001b[1m7s\u001b[0m 51ms/step - accuracy: 0.4062 - loss: 1.7231 - val_accuracy: 0.2631 - val_loss: 2.1568 - learning_rate: 0.0010\n",
      "Epoch 3/50\n",
      "\u001b[1m126/126\u001b[0m \u001b[32m━━━━━━━━━━━━━━━━━━━━\u001b[0m\u001b[37m\u001b[0m \u001b[1m111s\u001b[0m 880ms/step - accuracy: 0.5417 - loss: 1.2506 - val_accuracy: 0.2188 - val_loss: 6.4187 - learning_rate: 0.0010\n",
      "Epoch 4/50\n",
      "\u001b[1m126/126\u001b[0m \u001b[32m━━━━━━━━━━━━━━━━━━━━\u001b[0m\u001b[37m\u001b[0m \u001b[1m6s\u001b[0m 41ms/step - accuracy: 0.3750 - loss: 1.3084 - val_accuracy: 0.2177 - val_loss: 6.4450 - learning_rate: 0.0010\n",
      "Epoch 5/50\n",
      "\u001b[1m126/126\u001b[0m \u001b[32m━━━━━━━━━━━━━━━━━━━━\u001b[0m\u001b[37m\u001b[0m \u001b[1m114s\u001b[0m 905ms/step - accuracy: 0.5634 - loss: 1.1673 - val_accuracy: 0.3024 - val_loss: 2.0319 - learning_rate: 0.0010\n",
      "Epoch 6/50\n",
      "\u001b[1m126/126\u001b[0m \u001b[32m━━━━━━━━━━━━━━━━━━━━\u001b[0m\u001b[37m\u001b[0m \u001b[1m6s\u001b[0m 45ms/step - accuracy: 0.4375 - loss: 1.6584 - val_accuracy: 0.3488 - val_loss: 1.8744 - learning_rate: 0.0010\n",
      "Epoch 7/50\n",
      "\u001b[1m126/126\u001b[0m \u001b[32m━━━━━━━━━━━━━━━━━━━━\u001b[0m\u001b[37m\u001b[0m \u001b[1m115s\u001b[0m 916ms/step - accuracy: 0.5849 - loss: 1.1033 - val_accuracy: 0.3246 - val_loss: 2.0410 - learning_rate: 0.0010\n",
      "Epoch 8/50\n",
      "\u001b[1m126/126\u001b[0m \u001b[32m━━━━━━━━━━━━━━━━━━━━\u001b[0m\u001b[37m\u001b[0m \u001b[1m6s\u001b[0m 43ms/step - accuracy: 0.6364 - loss: 0.9735 - val_accuracy: 0.3155 - val_loss: 2.0572 - learning_rate: 0.0010\n",
      "Epoch 9/50\n",
      "\u001b[1m126/126\u001b[0m \u001b[32m━━━━━━━━━━━━━━━━━━━━\u001b[0m\u001b[37m\u001b[0m \u001b[1m119s\u001b[0m 940ms/step - accuracy: 0.6307 - loss: 0.9973 - val_accuracy: 0.4194 - val_loss: 2.3337 - learning_rate: 0.0010\n",
      "Epoch 10/50\n",
      "\u001b[1m126/126\u001b[0m \u001b[32m━━━━━━━━━━━━━━━━━━━━\u001b[0m\u001b[37m\u001b[0m \u001b[1m5s\u001b[0m 38ms/step - accuracy: 0.8438 - loss: 0.7364 - val_accuracy: 0.4183 - val_loss: 2.3153 - learning_rate: 2.0000e-04\n",
      "Epoch 11/50\n",
      "\u001b[1m126/126\u001b[0m \u001b[32m━━━━━━━━━━━━━━━━━━━━\u001b[0m\u001b[37m\u001b[0m \u001b[1m105s\u001b[0m 834ms/step - accuracy: 0.6610 - loss: 0.9018 - val_accuracy: 0.6683 - val_loss: 0.8853 - learning_rate: 2.0000e-04\n",
      "Epoch 12/50\n",
      "\u001b[1m126/126\u001b[0m \u001b[32m━━━━━━━━━━━━━━━━━━━━\u001b[0m\u001b[37m\u001b[0m \u001b[1m7s\u001b[0m 50ms/step - accuracy: 0.7188 - loss: 0.7472 - val_accuracy: 0.6875 - val_loss: 0.8383 - learning_rate: 2.0000e-04\n",
      "Epoch 13/50\n",
      "\u001b[1m126/126\u001b[0m \u001b[32m━━━━━━━━━━━━━━━━━━━━\u001b[0m\u001b[37m\u001b[0m \u001b[1m111s\u001b[0m 876ms/step - accuracy: 0.6916 - loss: 0.8667 - val_accuracy: 0.7440 - val_loss: 0.7262 - learning_rate: 2.0000e-04\n",
      "Epoch 14/50\n",
      "\u001b[1m126/126\u001b[0m \u001b[32m━━━━━━━━━━━━━━━━━━━━\u001b[0m\u001b[37m\u001b[0m \u001b[1m6s\u001b[0m 44ms/step - accuracy: 0.5938 - loss: 0.8403 - val_accuracy: 0.7530 - val_loss: 0.7001 - learning_rate: 2.0000e-04\n",
      "Epoch 15/50\n",
      "\u001b[1m126/126\u001b[0m \u001b[32m━━━━━━━━━━━━━━━━━━━━\u001b[0m\u001b[37m\u001b[0m \u001b[1m101s\u001b[0m 800ms/step - accuracy: 0.7129 - loss: 0.8016 - val_accuracy: 0.6381 - val_loss: 0.9439 - learning_rate: 2.0000e-04\n",
      "Epoch 16/50\n",
      "\u001b[1m126/126\u001b[0m \u001b[32m━━━━━━━━━━━━━━━━━━━━\u001b[0m\u001b[37m\u001b[0m \u001b[1m6s\u001b[0m 39ms/step - accuracy: 0.8125 - loss: 0.6322 - val_accuracy: 0.6260 - val_loss: 1.0146 - learning_rate: 2.0000e-04\n",
      "Epoch 17/50\n",
      "\u001b[1m126/126\u001b[0m \u001b[32m━━━━━━━━━━━━━━━━━━━━\u001b[0m\u001b[37m\u001b[0m \u001b[1m105s\u001b[0m 830ms/step - accuracy: 0.7079 - loss: 0.7887 - val_accuracy: 0.7470 - val_loss: 0.7124 - learning_rate: 2.0000e-04\n",
      "Epoch 18/50\n",
      "\u001b[1m126/126\u001b[0m \u001b[32m━━━━━━━━━━━━━━━━━━━━\u001b[0m\u001b[37m\u001b[0m \u001b[1m5s\u001b[0m 38ms/step - accuracy: 0.7188 - loss: 0.7324 - val_accuracy: 0.7440 - val_loss: 0.7228 - learning_rate: 4.0000e-05\n",
      "Epoch 19/50\n",
      "\u001b[1m126/126\u001b[0m \u001b[32m━━━━━━━━━━━━━━━━━━━━\u001b[0m\u001b[37m\u001b[0m \u001b[1m130s\u001b[0m 1s/step - accuracy: 0.7129 - loss: 0.7585 - val_accuracy: 0.7702 - val_loss: 0.6216 - learning_rate: 4.0000e-05\n",
      "Epoch 20/50\n",
      "\u001b[1m126/126\u001b[0m \u001b[32m━━━━━━━━━━━━━━━━━━━━\u001b[0m\u001b[37m\u001b[0m \u001b[1m6s\u001b[0m 48ms/step - accuracy: 0.6364 - loss: 0.9429 - val_accuracy: 0.7732 - val_loss: 0.6149 - learning_rate: 4.0000e-05\n",
      "Epoch 21/50\n",
      "\u001b[1m126/126\u001b[0m \u001b[32m━━━━━━━━━━━━━━━━━━━━\u001b[0m\u001b[37m\u001b[0m \u001b[1m122s\u001b[0m 967ms/step - accuracy: 0.7221 - loss: 0.7362 - val_accuracy: 0.6764 - val_loss: 0.8933 - learning_rate: 4.0000e-05\n",
      "Epoch 22/50\n",
      "\u001b[1m126/126\u001b[0m \u001b[32m━━━━━━━━━━━━━━━━━━━━\u001b[0m\u001b[37m\u001b[0m \u001b[1m7s\u001b[0m 45ms/step - accuracy: 0.7812 - loss: 0.5470 - val_accuracy: 0.6794 - val_loss: 0.8945 - learning_rate: 4.0000e-05\n",
      "Epoch 23/50\n",
      "\u001b[1m126/126\u001b[0m \u001b[32m━━━━━━━━━━━━━━━━━━━━\u001b[0m\u001b[37m\u001b[0m \u001b[1m122s\u001b[0m 962ms/step - accuracy: 0.7222 - loss: 0.7323 - val_accuracy: 0.7903 - val_loss: 0.5805 - learning_rate: 4.0000e-05\n",
      "Epoch 24/50\n",
      "\u001b[1m126/126\u001b[0m \u001b[32m━━━━━━━━━━━━━━━━━━━━\u001b[0m\u001b[37m\u001b[0m \u001b[1m6s\u001b[0m 42ms/step - accuracy: 0.8125 - loss: 0.5274 - val_accuracy: 0.7863 - val_loss: 0.5871 - learning_rate: 4.0000e-05\n",
      "Epoch 25/50\n",
      "\u001b[1m126/126\u001b[0m \u001b[32m━━━━━━━━━━━━━━━━━━━━\u001b[0m\u001b[37m\u001b[0m \u001b[1m119s\u001b[0m 938ms/step - accuracy: 0.7320 - loss: 0.7428 - val_accuracy: 0.7651 - val_loss: 0.6229 - learning_rate: 4.0000e-05\n",
      "Epoch 26/50\n",
      "\u001b[1m126/126\u001b[0m \u001b[32m━━━━━━━━━━━━━━━━━━━━\u001b[0m\u001b[37m\u001b[0m \u001b[1m6s\u001b[0m 39ms/step - accuracy: 0.7500 - loss: 0.6334 - val_accuracy: 0.7702 - val_loss: 0.6193 - learning_rate: 4.0000e-05\n",
      "Epoch 27/50\n",
      "\u001b[1m126/126\u001b[0m \u001b[32m━━━━━━━━━━━━━━━━━━━━\u001b[0m\u001b[37m\u001b[0m \u001b[1m114s\u001b[0m 906ms/step - accuracy: 0.7157 - loss: 0.7512 - val_accuracy: 0.7863 - val_loss: 0.5727 - learning_rate: 8.0000e-06\n",
      "Epoch 28/50\n",
      "\u001b[1m126/126\u001b[0m \u001b[32m━━━━━━━━━━━━━━━━━━━━\u001b[0m\u001b[37m\u001b[0m \u001b[1m6s\u001b[0m 39ms/step - accuracy: 0.7812 - loss: 0.6342 - val_accuracy: 0.7863 - val_loss: 0.5785 - learning_rate: 8.0000e-06\n",
      "Epoch 29/50\n",
      "\u001b[1m126/126\u001b[0m \u001b[32m━━━━━━━━━━━━━━━━━━━━\u001b[0m\u001b[37m\u001b[0m \u001b[1m100s\u001b[0m 795ms/step - accuracy: 0.7315 - loss: 0.7072 - val_accuracy: 0.7903 - val_loss: 0.5696 - learning_rate: 8.0000e-06\n",
      "Epoch 30/50\n",
      "\u001b[1m126/126\u001b[0m \u001b[32m━━━━━━━━━━━━━━━━━━━━\u001b[0m\u001b[37m\u001b[0m \u001b[1m6s\u001b[0m 39ms/step - accuracy: 0.7812 - loss: 0.6676 - val_accuracy: 0.7883 - val_loss: 0.5711 - learning_rate: 8.0000e-06\n",
      "Epoch 31/50\n",
      "\u001b[1m126/126\u001b[0m \u001b[32m━━━━━━━━━━━━━━━━━━━━\u001b[0m\u001b[37m\u001b[0m \u001b[1m109s\u001b[0m 867ms/step - accuracy: 0.7341 - loss: 0.7114 - val_accuracy: 0.7792 - val_loss: 0.6043 - learning_rate: 8.0000e-06\n",
      "Epoch 32/50\n",
      "\u001b[1m126/126\u001b[0m \u001b[32m━━━━━━━━━━━━━━━━━━━━\u001b[0m\u001b[37m\u001b[0m \u001b[1m5s\u001b[0m 37ms/step - accuracy: 0.6875 - loss: 0.6641 - val_accuracy: 0.7792 - val_loss: 0.6019 - learning_rate: 8.0000e-06\n",
      "Epoch 33/50\n",
      "\u001b[1m126/126\u001b[0m \u001b[32m━━━━━━━━━━━━━━━━━━━━\u001b[0m\u001b[37m\u001b[0m \u001b[1m101s\u001b[0m 797ms/step - accuracy: 0.7269 - loss: 0.7189 - val_accuracy: 0.7752 - val_loss: 0.6014 - learning_rate: 1.6000e-06\n",
      "Epoch 34/50\n",
      "\u001b[1m126/126\u001b[0m \u001b[32m━━━━━━━━━━━━━━━━━━━━\u001b[0m\u001b[37m\u001b[0m \u001b[1m5s\u001b[0m 38ms/step - accuracy: 0.7812 - loss: 0.5705 - val_accuracy: 0.7752 - val_loss: 0.5975 - learning_rate: 1.6000e-06\n"
     ]
    }
   ],
   "source": [
    "history = model.fit(\n",
    "    iter(train_generator),\n",
    "    epochs=wandb.config.epochs,\n",
    "    validation_data=val_datagen.flow(X_val, y_val, batch_size=BATCH_SIZE),\n",
    "    steps_per_epoch=len(X_train) // BATCH_SIZE,\n",
    "    validation_steps=len(X_val) // BATCH_SIZE,\n",
    "    callbacks=callbacks\n",
    ")"
   ]
  },
  {
   "cell_type": "code",
   "execution_count": 12,
   "metadata": {},
   "outputs": [],
   "source": [
    "def log_model_to_wandb(model, config, metrics, model_version):\n",
    "    model_name = f\"trashnet_model_v{model_version}\"\n",
    "    artifact = wandb.Artifact(\n",
    "        name=model_name,\n",
    "        type=\"model\",\n",
    "        description=\"Trashnet Classification model\",\n",
    "        metadata=config\n",
    "    )\n",
    "    \n",
    "    # Save model locally first\n",
    "    model_dir = \"model_artifacts\"\n",
    "    os.makedirs(model_dir, exist_ok=True)\n",
    "    \n",
    "    # Save model in Keras format\n",
    "    keras_model_path = os.path.join(model_dir, f\"{model_name}.keras\") \n",
    "    model.save(keras_model_path)\n",
    "    \n",
    "    # Save config\n",
    "    config_path = os.path.join(model_dir, \"config.json\")\n",
    "    with open(config_path, \"w\") as f:\n",
    "        json.dump(config, f, indent=4)\n",
    "    \n",
    "    # Save metrics\n",
    "    metrics_path = os.path.join(model_dir, \"metrics.json\")\n",
    "    with open(metrics_path, \"w\") as f:\n",
    "        json.dump(metrics, f, indent=4)\n",
    "    \n",
    "    # Create README with model info\n",
    "    readme_path = os.path.join(model_dir, \"README.md\")\n",
    "    with open(readme_path, \"w\") as f:\n",
    "        f.write(f\"# Trash Classification Model\\n\\n\")\n",
    "        f.write(f\"Created on: {datetime.now().strftime('%Y-%m-%d %H:%M:%S')}\\n\\n\")\n",
    "        f.write(\"## Model Architecture\\n```\\n\")\n",
    "\n",
    "        f.write(\"```\\n\\n\")\n",
    "        f.write(\"## Metrics\\n\")\n",
    "        for key, value in metrics.items():\n",
    "            f.write(f\"- {key}: {value}\\n\")\n",
    "    \n",
    "    # Add files to artifact\n",
    "    artifact.add_dir(model_dir)\n",
    "    \n",
    "    # Log artifact to wandb\n",
    "    wandb.log_artifact(artifact)\n",
    "    \n",
    "    return artifact"
   ]
  },
  {
   "cell_type": "code",
   "execution_count": 13,
   "metadata": {},
   "outputs": [
    {
     "name": "stderr",
     "output_type": "stream",
     "text": [
      "\u001b[34m\u001b[1mwandb\u001b[0m: Adding directory to artifact (.\\model_artifacts)... Done. 1.3s\n"
     ]
    },
    {
     "data": {
      "text/html": [],
      "text/plain": [
       "<IPython.core.display.HTML object>"
      ]
     },
     "metadata": {},
     "output_type": "display_data"
    },
    {
     "data": {
      "text/html": [
       "<br>    <style><br>        .wandb-row {<br>            display: flex;<br>            flex-direction: row;<br>            flex-wrap: wrap;<br>            justify-content: flex-start;<br>            width: 100%;<br>        }<br>        .wandb-col {<br>            display: flex;<br>            flex-direction: column;<br>            flex-basis: 100%;<br>            flex: 1;<br>            padding: 10px;<br>        }<br>    </style><br><div class=\"wandb-row\"><div class=\"wandb-col\"><h3>Run history:</h3><br/><table class=\"wandb\"><tr><td>epoch</td><td>▁▁▁▂▂▂▂▂▃▃▃▃▄▄▄▄▄▅▅▅▅▅▆▆▆▆▇▇▇▇▇███</td></tr><tr><td>learning_rate</td><td>█████████▂▂▂▂▂▂▂▂▁▁▁▁▁▁▁▁▁▁▁▁▁▁▁▁▁</td></tr><tr><td>train_accuracy</td><td>▂▁▃▁▄▂▄▅▅█▅▆▆▄▆█▆▆▆▅▆▇▆█▆▇▆▇▆▇▆▆▆▇</td></tr><tr><td>train_loss</td><td>▇█▅▆▅█▄▄▄▂▃▂▃▃▃▂▃▂▂▃▂▁▂▁▂▂▂▂▂▂▂▂▂▁</td></tr><tr><td>val_accuracy</td><td>▁▂▁▁▂▃▂▂▃▃▇▇▇█▆▆▇▇██▇▇████████████</td></tr><tr><td>val_loss</td><td>▃▃██▃▃▃▃▃▃▁▁▁▁▁▂▁▁▁▁▁▁▁▁▁▁▁▁▁▁▁▁▁▁</td></tr></table><br/></div><div class=\"wandb-col\"><h3>Run summary:</h3><br/><table class=\"wandb\"><tr><td>epoch</td><td>33</td></tr><tr><td>learning_rate</td><td>0.0</td></tr><tr><td>train_accuracy</td><td>0.78125</td></tr><tr><td>train_loss</td><td>0.57046</td></tr><tr><td>val_accuracy</td><td>0.7752</td></tr><tr><td>val_loss</td><td>0.59747</td></tr></table><br/></div></div>"
      ],
      "text/plain": [
       "<IPython.core.display.HTML object>"
      ]
     },
     "metadata": {},
     "output_type": "display_data"
    },
    {
     "data": {
      "text/html": [
       " View run <strong style=\"color:#cdcd00\">CPU-CNN-Tensorflow-2</strong> at: <a href='https://wandb.ai/soic/trashnet/runs/b28pl5m5' target=\"_blank\">https://wandb.ai/soic/trashnet/runs/b28pl5m5</a><br> View project at: <a href='https://wandb.ai/soic/trashnet' target=\"_blank\">https://wandb.ai/soic/trashnet</a><br>Synced 5 W&B file(s), 0 media file(s), 4 artifact file(s) and 0 other file(s)"
      ],
      "text/plain": [
       "<IPython.core.display.HTML object>"
      ]
     },
     "metadata": {},
     "output_type": "display_data"
    },
    {
     "data": {
      "text/html": [
       "Find logs at: <code>.\\wandb\\run-20241221_211906-b28pl5m5\\logs</code>"
      ],
      "text/plain": [
       "<IPython.core.display.HTML object>"
      ]
     },
     "metadata": {},
     "output_type": "display_data"
    }
   ],
   "source": [
    "model_version = \"1.2\"\n",
    "\n",
    "final_metrics = {\n",
    "    'final_train_loss': history.history['loss'][-1],\n",
    "    'final_train_accuracy': history.history['accuracy'][-1],\n",
    "    'final_val_loss': history.history['val_loss'][-1],\n",
    "    'final_val_accuracy': history.history['val_accuracy'][-1],\n",
    "    'total_epochs': len(history.history['loss'])\n",
    "}\n",
    "\n",
    "final_artifact = log_model_to_wandb(\n",
    "    model,\n",
    "    wandb.config.as_dict(),\n",
    "    final_metrics,\n",
    "    model_version\n",
    ")\n",
    "\n",
    "wandb.finish()"
   ]
  },
  {
   "cell_type": "code",
   "execution_count": 14,
   "metadata": {},
   "outputs": [],
   "source": [
    "def save_model(version, model, config, metrics, base_dir=\"../models\"):\n",
    "    model_dir = os.path.join(base_dir, f\"model_{version}\")\n",
    "    os.makedirs(model_dir, exist_ok=True)\n",
    "    \n",
    "    # Save model weights and architecture\n",
    "    keras_model_path = os.path.join(model_dir, f\"model_{version}.keras\") \n",
    "    model.save(keras_model_path)\n",
    "    \n",
    "    \n",
    "    # Save configs\n",
    "    config_path = os.path.join(model_dir, \"config.json\")\n",
    "    with open(config_path, \"w\") as f:\n",
    "        json.dump(config, f, indent=4)\n",
    "    \n",
    "    # Save metrics\n",
    "    metrics_path = os.path.join(model_dir, \"metrics.json\")\n",
    "    with open(metrics_path, \"w\") as f:\n",
    "        json.dump(metrics, f, indent=4)\n",
    "    \n",
    "    # Create README\n",
    "    readme_path = os.path.join(model_dir, \"README.md\")\n",
    "    with open(readme_path, \"w\") as f:\n",
    "        f.write(f\"\"\"---\n",
    "datasets:\n",
    "- garythung/trashnet\n",
    "metrics:\n",
    "- accuracy\n",
    "pipeline_tag: image-classification\n",
    "---\n",
    "\"\"\")\n",
    "        f.write(f\"\\n# Model Version {version}\\n\")\n",
    "        f.write(f\"Created on: {datetime.now().strftime('%Y-%m-%d %H:%M:%S')}\\n\\n\")\n",
    "        f.write(\"```\\n\\n\")\n",
    "        f.write(\"## Metrics\\n\")\n",
    "        for key, value in metrics.items():\n",
    "            f.write(f\"- *{key}*: {value:.4f}\\n\")\n",
    "        \n",
    "        f.write(\"\\n## Configuration\\n\")\n",
    "        for key, value in config.items():\n",
    "            f.write(f\"- **{key}**: {value}\\n\")\n",
    "    \n",
    "    print(f\"Model version {version} saved successfully at {model_dir}.\")\n",
    "    return model_dir"
   ]
  },
  {
   "cell_type": "code",
   "execution_count": 15,
   "metadata": {},
   "outputs": [
    {
     "name": "stdout",
     "output_type": "stream",
     "text": [
      "Model version 1.2 saved successfully at ../models\\model_1.2.\n"
     ]
    },
    {
     "data": {
      "text/plain": [
       "'../models\\\\model_1.2'"
      ]
     },
     "execution_count": 15,
     "metadata": {},
     "output_type": "execute_result"
    }
   ],
   "source": [
    "config = {\n",
    "    \"architecture\": \"Tensorflow CNN\",\n",
    "    \"input_size\": (224, 224, 3),\n",
    "    \"num_classes\": num_classes,\n",
    "    \"augmentation\": {\n",
    "        \"rotation_range\": 20,\n",
    "        \"width_shift_range\": 0.2,\n",
    "        \"height_shift_range\": 0.2,\n",
    "        \"horizontal_flip\": True,\n",
    "        \"vertical_flip\": True,\n",
    "        \"shear_range\": 0.2,\n",
    "        \"brightness_range\": [0.8, 1.2]\n",
    "    },\n",
    "    \"optimizer\": \"adam\",\n",
    "    \"learning_rate\": 0.001,\n",
    "    \"batch_size\": 32,\n",
    "    \"epochs\": 50\n",
    "}\n",
    "    \n",
    "final_metrics = {\n",
    "    \"train_loss\": history.history['loss'][-1],\n",
    "    \"train_accuracy\": history.history['accuracy'][-1],\n",
    "    \"val_loss\": history.history['val_loss'][-1],\n",
    "    \"val_accuracy\": history.history['val_accuracy'][-1]\n",
    "}\n",
    "\n",
    "save_model(model_version, model, config, final_metrics)"
   ]
  }
 ],
 "metadata": {
  "kernelspec": {
   "display_name": "Python 3",
   "language": "python",
   "name": "python3"
  },
  "language_info": {
   "codemirror_mode": {
    "name": "ipython",
    "version": 3
   },
   "file_extension": ".py",
   "mimetype": "text/x-python",
   "name": "python",
   "nbconvert_exporter": "python",
   "pygments_lexer": "ipython3",
   "version": "3.12.7"
  }
 },
 "nbformat": 4,
 "nbformat_minor": 2
}
